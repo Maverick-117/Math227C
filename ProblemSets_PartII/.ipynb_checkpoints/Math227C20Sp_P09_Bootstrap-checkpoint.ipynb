{
 "cells": [
  {
   "cell_type": "code",
   "execution_count": 33,
   "metadata": {},
   "outputs": [
    {
     "name": "stderr",
     "output_type": "stream",
     "text": [
      "\n",
      "Attaching package: 'dplyr'\n",
      "\n",
      "\n",
      "The following objects are masked from 'package:stats':\n",
      "\n",
      "    filter, lag\n",
      "\n",
      "\n",
      "The following objects are masked from 'package:base':\n",
      "\n",
      "    intersect, setdiff, setequal, union\n",
      "\n",
      "\n"
     ]
    }
   ],
   "source": [
    "library(ggplot2)\n",
    "library(dplyr)"
   ]
  },
  {
   "cell_type": "markdown",
   "metadata": {},
   "source": [
    "# Problem set 9\n",
    "\n",
    "## Part I\n",
    "\n",
    "The concept that all our estimators have their own distribution, and therefore their own standard deviation, seems like a new concept but we are already familiar with one example:\n",
    "\n",
    "For $N_{\\rm obs}$ normal random variables with mean $\\mu$ and standard deviation $\\sigma$, our estimate of the mean, $\\hat{\\mu}$, has a distribution with standard deviation $\\sigma/\\sqrt{N_{\\rm obs}}$. In reality, we do not know $\\mu$ or $\\sigma$ (if we did, why would we be estimating them!), so we approximate the standard deviation of $\\hat{\\mu}$ with $\\hat{\\sigma}/\\sqrt{N_{\\rm obs}}$. This is called the __standard error of the mean__.\n",
    "\n",
    "In this problem, we will explore whether the nonparametric bootstrap estimate of the standard deviation of $\\hat{\\mu}$ agrees with the familiar formula of the standard error of the mean.\n",
    "\n",
    "\n",
    "### 1.1 A single nonparametric bootstrap\n",
    "\n",
    "The following code generates a sample of $N_{\\rm obs}=20$ normal random variables.\n"
   ]
  },
  {
   "cell_type": "code",
   "execution_count": 11,
   "metadata": {},
   "outputs": [],
   "source": [
    "NObs <- 20\n",
    "N.resample <- 1000\n",
    "data.train <- rnorm(NObs,178.1,12.1)"
   ]
  },
  {
   "cell_type": "markdown",
   "metadata": {},
   "source": [
    "Perform a non-parametric boostrap, say with 1000 resamplings, on the above data and estimate the mean $\\hat{\\mu}$ and the standard deviation $\\hat{\\sigma}$ each time. Output the standard deviation of $\\hat{\\mu}$. (In this block, the sample size is fixed at $N_{\\rm obs}=20$.)"
   ]
  },
  {
   "cell_type": "code",
   "execution_count": 31,
   "metadata": {},
   "outputs": [
    {
     "data": {
      "text/html": [
       "178.767267328389"
      ],
      "text/latex": [
       "178.767267328389"
      ],
      "text/markdown": [
       "178.767267328389"
      ],
      "text/plain": [
       "[1] 178.7673"
      ]
     },
     "metadata": {},
     "output_type": "display_data"
    },
    {
     "data": {
      "text/html": [
       "2.25169850933437"
      ],
      "text/latex": [
       "2.25169850933437"
      ],
      "text/markdown": [
       "2.25169850933437"
      ],
      "text/plain": [
       "[1] 2.251699"
      ]
     },
     "metadata": {},
     "output_type": "display_data"
    },
    {
     "data": {
      "text/html": [
       "2.24113187016196"
      ],
      "text/latex": [
       "2.24113187016196"
      ],
      "text/markdown": [
       "2.24113187016196"
      ],
      "text/plain": [
       "[1] 2.241132"
      ]
     },
     "metadata": {},
     "output_type": "display_data"
    }
   ],
   "source": [
    "m.vec = 1:N.resample\n",
    "std.vec = 1:N.resample\n",
    "for (i in 1:N.resample) {\n",
    "    sample.bootstrap <- data.train[sample(NObs,replace=TRUE)]\n",
    "    m.vec[i] = mean(sample.bootstrap)\n",
    "    std.vec[i] = sd(sample.bootstrap)\n",
    "}\n",
    "mean(m.vec)\n",
    "sd(m.vec)\n",
    "mean(std.vec)/sqrt(NObs)"
   ]
  },
  {
   "cell_type": "markdown",
   "metadata": {},
   "source": [
    "Repeat the above, but in a loop, with $N_{\\rm obs}$ ranging from 10 to 10000. Compute the standard deviation of $\\hat{\\mu}$ from non-parametric bootstrap for each value of $N_{\\rm obs}$. Store the value of $\\hat{\\sigma}$ for each value of $N_{\\rm obs}$ (because you will need it below).\n",
    "\n",
    "Plot the standard deviation of $\\hat{\\mu}$ from non-parametric bootstrap versus $N_{\\rm obs}$.\n",
    "\n",
    "On the same axis, plot $\\hat{\\sigma}/\\sqrt{N_{\\rm obs}}$ versus $N_{\\rm obs}$.\n",
    "\n",
    "Do they agree?"
   ]
  },
  {
   "cell_type": "code",
   "execution_count": 32,
   "metadata": {},
   "outputs": [],
   "source": [
    "NObs.vec <- seq(10,10000,by=500)\n",
    "n.looper <- 1:length(NObs.vec)\n",
    "m.NObs.vec <- 1:length(NObs.vec)\n",
    "m.std.NObs.vec <- 1:length(NObs.vec)\n",
    "std.NObs.vec <- 1:length(NObs.vec)\n",
    "for (n in n.looper){\n",
    "    data.train <- rnorm(NObs.vec[n],178.1,12.1)\n",
    "    m.vec = 1:N.resample\n",
    "    std.vec = 1:N.resample\n",
    "    for (i in 1:N.resample) {\n",
    "        sample.bootstrap <- data.train[sample(NObs.vec[n],replace=TRUE)]\n",
    "        m.vec[i] = mean(sample.bootstrap)\n",
    "        std.vec[i] = sd(sample.bootstrap)\n",
    "    }\n",
    "    m.NObs.vec[n] <- mean(m.vec)\n",
    "    m.std.NObs.vec[n] <- sd(m.vec)\n",
    "    std.NObs.vec[n] <- mean(std.vec)\n",
    "}"
   ]
  },
  {
   "cell_type": "code",
   "execution_count": 28,
   "metadata": {},
   "outputs": [
    {
     "data": {
      "text/html": [
       "<style>\n",
       ".list-inline {list-style: none; margin:0; padding: 0}\n",
       ".list-inline>li {display: inline-block}\n",
       ".list-inline>li:not(:last-child)::after {content: \"\\00b7\"; padding: 0 .5ex}\n",
       "</style>\n",
       "<ol class=list-inline><li>3.5811407664895</li><li>0.553166141338596</li><li>0.371493978739102</li><li>0.294786097037427</li><li>0.279195052688978</li><li>0.2386853041835</li><li>0.218371824466863</li><li>0.208041189252608</li><li>0.189254622379318</li><li>0.180860125228867</li><li>0.171038872740013</li><li>0.163609113430596</li><li>0.155034775469923</li><li>0.150650416448304</li><li>0.144243565121202</li><li>0.138227358453785</li><li>0.134719430754953</li><li>0.129666856994134</li><li>0.126139525833432</li><li>0.123205476175969</li></ol>\n"
      ],
      "text/latex": [
       "\\begin{enumerate*}\n",
       "\\item 3.5811407664895\n",
       "\\item 0.553166141338596\n",
       "\\item 0.371493978739102\n",
       "\\item 0.294786097037427\n",
       "\\item 0.279195052688978\n",
       "\\item 0.2386853041835\n",
       "\\item 0.218371824466863\n",
       "\\item 0.208041189252608\n",
       "\\item 0.189254622379318\n",
       "\\item 0.180860125228867\n",
       "\\item 0.171038872740013\n",
       "\\item 0.163609113430596\n",
       "\\item 0.155034775469923\n",
       "\\item 0.150650416448304\n",
       "\\item 0.144243565121202\n",
       "\\item 0.138227358453785\n",
       "\\item 0.134719430754953\n",
       "\\item 0.129666856994134\n",
       "\\item 0.126139525833432\n",
       "\\item 0.123205476175969\n",
       "\\end{enumerate*}\n"
      ],
      "text/markdown": [
       "1. 3.5811407664895\n",
       "2. 0.553166141338596\n",
       "3. 0.371493978739102\n",
       "4. 0.294786097037427\n",
       "5. 0.279195052688978\n",
       "6. 0.2386853041835\n",
       "7. 0.218371824466863\n",
       "8. 0.208041189252608\n",
       "9. 0.189254622379318\n",
       "10. 0.180860125228867\n",
       "11. 0.171038872740013\n",
       "12. 0.163609113430596\n",
       "13. 0.155034775469923\n",
       "14. 0.150650416448304\n",
       "15. 0.144243565121202\n",
       "16. 0.138227358453785\n",
       "17. 0.134719430754953\n",
       "18. 0.129666856994134\n",
       "19. 0.126139525833432\n",
       "20. 0.123205476175969\n",
       "\n",
       "\n"
      ],
      "text/plain": [
       " [1] 3.5811408 0.5531661 0.3714940 0.2947861 0.2791951 0.2386853 0.2183718\n",
       " [8] 0.2080412 0.1892546 0.1808601 0.1710389 0.1636091 0.1550348 0.1506504\n",
       "[15] 0.1442436 0.1382274 0.1347194 0.1296669 0.1261395 0.1232055"
      ]
     },
     "metadata": {},
     "output_type": "display_data"
    }
   ],
   "source": [
    "std.NObs.vec/sqrt(NObs.vec)"
   ]
  },
  {
   "cell_type": "code",
   "execution_count": 36,
   "metadata": {},
   "outputs": [
    {
     "name": "stderr",
     "output_type": "stream",
     "text": [
      "Joining, by = c(\"NObs\", \"std.mean\", \"deviationType\")\n",
      "\n",
      "Warning message:\n",
      "\"Column `deviationType` joining factors with different levels, coercing to character vector\"\n"
     ]
    },
    {
     "data": {
      "image/png": "[encoded data removed]",
      "text/plain": [
       "plot without title"
      ]
     },
     "metadata": {
      "image/png": {
       "height": 420,
       "width": 420
      }
     },
     "output_type": "display_data"
    }
   ],
   "source": [
    "NObs1.df <- data.frame(\"NObs\"=NObs.vec,\"std.mean\"=std.NObs.vec/sqrt(NObs.vec),\"deviationType\"=\"stdErrMean\")\n",
    "NObs2.df <- data.frame(\"NObs\"=NObs.vec,\"std.mean\"=m.std.NObs.vec,\"deviationType\"=\"stdDevMean\")\n",
    "NObs.df <- full_join(NObs1.df,NObs2.df)\n",
    "ggplot(NObs.df,aes(x=NObs,y=std.mean,colour=deviationType))+geom_point()"
   ]
  },
  {
   "cell_type": "markdown",
   "metadata": {},
   "source": [
    "# Part II: Bootstrap on coefficient of linear regression\n",
    "\n",
    "The code below simulates some linear data with noise. Linear regression using lm will yield estimates for the parameters beta0 and beta1 (and sigma, which we will not focus on in this problem). "
   ]
  },
  {
   "cell_type": "code",
   "execution_count": 38,
   "metadata": {},
   "outputs": [
    {
     "data": {
      "image/png": "[encoded data removed]",
      "text/plain": [
       "plot without title"
      ]
     },
     "metadata": {
      "image/png": {
       "height": 420,
       "width": 420
      }
     },
     "output_type": "display_data"
    }
   ],
   "source": [
    "# Simulate some linear data with noise\n",
    "NObs <- 20\n",
    "beta0 <- 10.5\n",
    "beta1 <- 2.6\n",
    "sigma <- 1.4\n",
    "\n",
    "X <- seq(0,10,length=NObs)\n",
    "eps <- rnorm(NObs,0,sigma)\n",
    "\n",
    "Y <- beta0 + beta1*X +eps\n",
    "\n",
    "plot(X,Y)"
   ]
  },
  {
   "cell_type": "markdown",
   "metadata": {},
   "source": [
    "In a loop, repeat the simulation and perform lm estimation, 1000 times. This will yield a distribution of estimates for beta_0 and beta_1. Plot histograms of these. Output the quantiles of these. (Note in reality one would not have this ability.)"
   ]
  },
  {
   "cell_type": "code",
   "execution_count": null,
   "metadata": {},
   "outputs": [],
   "source": []
  },
  {
   "cell_type": "markdown",
   "metadata": {},
   "source": [
    "In reality, assume we only have 1 instance (in this example, with NObs=20 data points). \n",
    "\n",
    "Perform the simulation once to generate one data set with 20 points."
   ]
  },
  {
   "cell_type": "code",
   "execution_count": null,
   "metadata": {},
   "outputs": [],
   "source": []
  },
  {
   "cell_type": "markdown",
   "metadata": {},
   "source": [
    "Write code to perform non-parametric bootstrap on this data set. For a linear model like this, the resampling should be random pairs of X,Y data (so, to be clear, the resampling does not mix an X-value with a Y-value it did not belong with). \n",
    "\n",
    "Using the distribution of estimates for beta_0 and beta_1 from this non-parametric bootstrap, plot histograms and output quantiles. Compare with the \"true\" distributions from above."
   ]
  },
  {
   "cell_type": "code",
   "execution_count": null,
   "metadata": {},
   "outputs": [],
   "source": []
  }
 ],
 "metadata": {
  "kernelspec": {
   "display_name": "R",
   "language": "R",
   "name": "ir"
  },
  "language_info": {
   "codemirror_mode": "r",
   "file_extension": ".r",
   "mimetype": "text/x-r-source",
   "name": "R",
   "pygments_lexer": "r",
   "version": "3.6.3"
  }
 },
 "nbformat": 4,
 "nbformat_minor": 2
}
