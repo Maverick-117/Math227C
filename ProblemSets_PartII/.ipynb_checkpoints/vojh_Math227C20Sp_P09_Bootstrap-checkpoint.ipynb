{
 "cells": [
  {
   "cell_type": "code",
   "execution_count": 10,
   "metadata": {},
   "outputs": [
    {
     "name": "stderr",
     "output_type": "stream",
     "text": [
      "\n",
      "Attaching package: 'dplyr'\n",
      "\n",
      "\n",
      "The following objects are masked from 'package:stats':\n",
      "\n",
      "    filter, lag\n",
      "\n",
      "\n",
      "The following objects are masked from 'package:base':\n",
      "\n",
      "    intersect, setdiff, setequal, union\n",
      "\n",
      "\n"
     ]
    }
   ],
   "source": [
    "library(ggplot2)\n",
    "library(dplyr)"
   ]
  },
  {
   "cell_type": "markdown",
   "metadata": {},
   "source": [
    "# Problem set 9\n",
    "\n",
    "## Part I\n",
    "\n",
    "The concept that all our estimators have their own distribution, and therefore their own standard deviation, seems like a new concept but we are already familiar with one example:\n",
    "\n",
    "For $N_{\\rm obs}$ normal random variables with mean $\\mu$ and standard deviation $\\sigma$, our estimate of the mean, $\\hat{\\mu}$, has a distribution with standard deviation $\\sigma/\\sqrt{N_{\\rm obs}}$. In reality, we do not know $\\mu$ or $\\sigma$ (if we did, why would we be estimating them!), so we approximate the standard deviation of $\\hat{\\mu}$ with $\\hat{\\sigma}/\\sqrt{N_{\\rm obs}}$. This is called the __standard error of the mean__.\n",
    "\n",
    "In this problem, we will explore whether the nonparametric bootstrap estimate of the standard deviation of $\\hat{\\mu}$ agrees with the familiar formula of the standard error of the mean.\n",
    "\n",
    "\n",
    "### 1.1 A single nonparametric bootstrap\n",
    "\n",
    "The following code generates a sample of $N_{\\rm obs}=20$ normal random variables.\n"
   ]
  },
  {
   "cell_type": "code",
   "execution_count": 47,
   "metadata": {},
   "outputs": [],
   "source": [
    "NObs <- 20\n",
    "N.resample <- 1000\n",
    "data.train <- rnorm(NObs,178.1,12.1)"
   ]
  },
  {
   "cell_type": "markdown",
   "metadata": {},
   "source": [
    "Perform a non-parametric boostrap, say with 1000 resamplings, on the above data and estimate the mean $\\hat{\\mu}$ and the standard deviation $\\hat{\\sigma}$ each time. Output the standard deviation of $\\hat{\\mu}$. (In this block, the sample size is fixed at $N_{\\rm obs}=20$.)"
   ]
  },
  {
   "cell_type": "code",
   "execution_count": 31,
   "metadata": {},
   "outputs": [
    {
     "data": {
      "text/html": [
       "178.767267328389"
      ],
      "text/latex": [
       "178.767267328389"
      ],
      "text/markdown": [
       "178.767267328389"
      ],
      "text/plain": [
       "[1] 178.7673"
      ]
     },
     "metadata": {},
     "output_type": "display_data"
    },
    {
     "data": {
      "text/html": [
       "2.25169850933437"
      ],
      "text/latex": [
       "2.25169850933437"
      ],
      "text/markdown": [
       "2.25169850933437"
      ],
      "text/plain": [
       "[1] 2.251699"
      ]
     },
     "metadata": {},
     "output_type": "display_data"
    },
    {
     "data": {
      "text/html": [
       "2.24113187016196"
      ],
      "text/latex": [
       "2.24113187016196"
      ],
      "text/markdown": [
       "2.24113187016196"
      ],
      "text/plain": [
       "[1] 2.241132"
      ]
     },
     "metadata": {},
     "output_type": "display_data"
    }
   ],
   "source": [
    "m.vec = 1:N.resample\n",
    "std.vec = 1:N.resample\n",
    "for (i in 1:N.resample) {\n",
    "    sample.bootstrap <- data.train[sample(NObs,replace=TRUE)]\n",
    "    m.vec[i] = mean(sample.bootstrap)\n",
    "    std.vec[i] = sd(sample.bootstrap)\n",
    "}\n",
    "mean(m.vec)\n",
    "sd(m.vec)\n",
    "mean(std.vec)/sqrt(NObs)"
   ]
  },
  {
   "cell_type": "markdown",
   "metadata": {},
   "source": [
    "Repeat the above, but in a loop, with $N_{\\rm obs}$ ranging from 10 to 10000. Compute the standard deviation of $\\hat{\\mu}$ from non-parametric bootstrap for each value of $N_{\\rm obs}$. Store the value of $\\hat{\\sigma}$ for each value of $N_{\\rm obs}$ (because you will need it below).\n",
    "\n",
    "Plot the standard deviation of $\\hat{\\mu}$ from non-parametric bootstrap versus $N_{\\rm obs}$.\n",
    "\n",
    "On the same axis, plot $\\hat{\\sigma}/\\sqrt{N_{\\rm obs}}$ versus $N_{\\rm obs}$.\n",
    "\n",
    "Do they agree?"
   ]
  },
  {
   "cell_type": "code",
   "execution_count": 97,
   "metadata": {},
   "outputs": [],
   "source": [
    "bootstrap.simple <- function(df, N.repeat, N.obs) {\n",
    "    mean.vec <- 1:N.repeat\n",
    "    stdev.vec <- 1:N.repeat\n",
    "    for (i in 1:N.repeat) {\n",
    "        resample.bootstrap <- df[sample(N.obs,replace=TRUE)]\n",
    "        mean.vec[i] <- mean(resample.bootstrap)\n",
    "        stdev.vec[i] <- sd(resample.bootstrap)\n",
    "    }\n",
    "    data.frame('mean'=mean.vec,'std'=stdev.vec)\n",
    "}"
   ]
  },
  {
   "cell_type": "code",
   "execution_count": 32,
   "metadata": {},
   "outputs": [],
   "source": [
    "# non-optimized version\n",
    "\n",
    "NObs.vec <- seq(10,10000,by=500)\n",
    "n.looper <- 1:length(NObs.vec)\n",
    "m.NObs.vec <- 1:length(NObs.vec)\n",
    "m.std.NObs.vec <- 1:length(NObs.vec)\n",
    "std.NObs.vec <- 1:length(NObs.vec)\n",
    "for (n in n.looper){\n",
    "    data.train <- rnorm(NObs.vec[n],178.1,12.1)\n",
    "    m.vec = 1:N.resample\n",
    "    std.vec = 1:N.resample\n",
    "    for (i in 1:N.resample) {\n",
    "        sample.bootstrap <- data.train[sample(NObs.vec[n],replace=TRUE)]\n",
    "        m.vec[i] = mean(sample.bootstrap)\n",
    "        std.vec[i] = sd(sample.bootstrap)\n",
    "    }\n",
    "    m.NObs.vec[n] <- mean(m.vec)\n",
    "    m.std.NObs.vec[n] <- sd(m.vec)\n",
    "    std.NObs.vec[n] <- mean(std.vec)\n",
    "}"
   ]
  },
  {
   "cell_type": "code",
   "execution_count": 53,
   "metadata": {},
   "outputs": [],
   "source": [
    "# optimized-version\n",
    "\n",
    "NObs.vec <- seq(10,10000,by=500)\n",
    "n.looper <- 1:length(NObs.vec)\n",
    "m.NObs.vec <- 1:length(NObs.vec)\n",
    "m.std.NObs.vec <- 1:length(NObs.vec)\n",
    "std.NObs.vec <- 1:length(NObs.vec)\n",
    "\n",
    "for (n in n.looper){\n",
    "    data.train <- rnorm(NObs.vec[n],178.1,12.1)\n",
    "    df.n <- bootstrap.simple(data.train, N.resample, NObs.vec[n])\n",
    "    m.NObs.vec[n] <- mean(df.n$mean)\n",
    "    m.std.NObs.vec[n] <- sd(df.n$mean)\n",
    "    std.NObs.vec[n] <- mean(df.n$std)\n",
    "}"
   ]
  },
  {
   "cell_type": "code",
   "execution_count": 50,
   "metadata": {},
   "outputs": [
    {
     "data": {
      "text/html": [
       "<style>\n",
       ".list-inline {list-style: none; margin:0; padding: 0}\n",
       ".list-inline>li {display: inline-block}\n",
       ".list-inline>li:not(:last-child)::after {content: \"\\00b7\"; padding: 0 .5ex}\n",
       "</style>\n",
       "<ol class=list-inline><li>5.67441638177015</li><li>0.527926414533379</li><li>0.372566681891724</li><li>0.313317054791555</li><li>0.272093937897684</li><li>0.240022854323062</li><li>0.224579604710454</li><li>0.203470199481442</li><li>0.189460026554008</li><li>0.178828086947212</li><li>0.172207392256471</li><li>0.163744635324966</li><li>0.154633128126249</li><li>0.149057918312059</li><li>0.142855390081791</li><li>0.141227058678467</li><li>0.135622857084809</li><li>0.12939726423109</li><li>0.127349557475689</li><li>0.125375841847935</li></ol>\n"
      ],
      "text/latex": [
       "\\begin{enumerate*}\n",
       "\\item 5.67441638177015\n",
       "\\item 0.527926414533379\n",
       "\\item 0.372566681891724\n",
       "\\item 0.313317054791555\n",
       "\\item 0.272093937897684\n",
       "\\item 0.240022854323062\n",
       "\\item 0.224579604710454\n",
       "\\item 0.203470199481442\n",
       "\\item 0.189460026554008\n",
       "\\item 0.178828086947212\n",
       "\\item 0.172207392256471\n",
       "\\item 0.163744635324966\n",
       "\\item 0.154633128126249\n",
       "\\item 0.149057918312059\n",
       "\\item 0.142855390081791\n",
       "\\item 0.141227058678467\n",
       "\\item 0.135622857084809\n",
       "\\item 0.12939726423109\n",
       "\\item 0.127349557475689\n",
       "\\item 0.125375841847935\n",
       "\\end{enumerate*}\n"
      ],
      "text/markdown": [
       "1. 5.67441638177015\n",
       "2. 0.527926414533379\n",
       "3. 0.372566681891724\n",
       "4. 0.313317054791555\n",
       "5. 0.272093937897684\n",
       "6. 0.240022854323062\n",
       "7. 0.224579604710454\n",
       "8. 0.203470199481442\n",
       "9. 0.189460026554008\n",
       "10. 0.178828086947212\n",
       "11. 0.172207392256471\n",
       "12. 0.163744635324966\n",
       "13. 0.154633128126249\n",
       "14. 0.149057918312059\n",
       "15. 0.142855390081791\n",
       "16. 0.141227058678467\n",
       "17. 0.135622857084809\n",
       "18. 0.12939726423109\n",
       "19. 0.127349557475689\n",
       "20. 0.125375841847935\n",
       "\n",
       "\n"
      ],
      "text/plain": [
       " [1] 5.6744164 0.5279264 0.3725667 0.3133171 0.2720939 0.2400229 0.2245796\n",
       " [8] 0.2034702 0.1894600 0.1788281 0.1722074 0.1637446 0.1546331 0.1490579\n",
       "[15] 0.1428554 0.1412271 0.1356229 0.1293973 0.1273496 0.1253758"
      ]
     },
     "metadata": {},
     "output_type": "display_data"
    }
   ],
   "source": [
    "std.NObs.vec/sqrt(NObs.vec)"
   ]
  },
  {
   "cell_type": "code",
   "execution_count": 51,
   "metadata": {},
   "outputs": [
    {
     "name": "stderr",
     "output_type": "stream",
     "text": [
      "Joining, by = c(\"NObs\", \"std.mean\", \"deviationType\")\n",
      "\n",
      "Warning message:\n",
      "\"Column `deviationType` joining factors with different levels, coercing to character vector\"\n"
     ]
    },
    {
     "data": {
      "image/png": "[encoded data removed]",
      "text/plain": [
       "plot without title"
      ]
     },
     "metadata": {
      "image/png": {
       "height": 420,
       "width": 420
      }
     },
     "output_type": "display_data"
    }
   ],
   "source": [
    "NObs1.df <- data.frame(\"NObs\"=NObs.vec,\"std.mean\"=std.NObs.vec/sqrt(NObs.vec),\"deviationType\"=\"stdErrMean\")\n",
    "NObs2.df <- data.frame(\"NObs\"=NObs.vec,\"std.mean\"=m.std.NObs.vec,\"deviationType\"=\"stdDevMean\")\n",
    "NObs.df <- full_join(NObs1.df,NObs2.df)\n",
    "ggplot(NObs.df,aes(x=NObs,y=std.mean,colour=deviationType))+geom_point()"
   ]
  },
  {
   "cell_type": "markdown",
   "metadata": {},
   "source": [
    "# Part II: Bootstrap on coefficient of linear regression\n",
    "\n",
    "The code below simulates some linear data with noise. Linear regression using lm will yield estimates for the parameters beta0 and beta1 (and sigma, which we will not focus on in this problem). "
   ]
  },
  {
   "cell_type": "code",
   "execution_count": 61,
   "metadata": {},
   "outputs": [
    {
     "data": {
      "text/html": [
       "<strong>(Intercept):</strong> 10.842716735806"
      ],
      "text/latex": [
       "\\textbf{(Intercept):} 10.842716735806"
      ],
      "text/markdown": [
       "**(Intercept):** 10.842716735806"
      ],
      "text/plain": [
       "(Intercept) \n",
       "   10.84272 "
      ]
     },
     "metadata": {},
     "output_type": "display_data"
    },
    {
     "data": {
      "image/png": "[encoded data removed]",
      "text/plain": [
       "plot without title"
      ]
     },
     "metadata": {
      "image/png": {
       "height": 420,
       "width": 420
      }
     },
     "output_type": "display_data"
    }
   ],
   "source": [
    "# Simulate some linear data with noise\n",
    "NObs <- 20\n",
    "beta0 <- 10.5\n",
    "beta1 <- 2.6\n",
    "sigma <- 1.4\n",
    "\n",
    "X <- seq(0,10,length=NObs)\n",
    "eps <- rnorm(NObs,0,sigma)\n",
    "\n",
    "Y <- beta0 + beta1*X +eps\n",
    "\n",
    "plot(X,Y)\n",
    "df <- data.frame(X,Y)\n",
    "lr <- lm(Y ~ X, df)\n",
    "lr$coefficients[1]"
   ]
  },
  {
   "cell_type": "markdown",
   "metadata": {},
   "source": [
    "In a loop, repeat the simulation and perform lm estimation, 1000 times. This will yield a distribution of estimates for beta_0 and beta_1. Plot histograms of these. Output the quantiles of these. (Note in reality one would not have this ability.)"
   ]
  },
  {
   "cell_type": "code",
   "execution_count": 107,
   "metadata": {},
   "outputs": [],
   "source": [
    "N.repl <- 1000\n",
    "\n",
    "\n",
    "\n",
    "beta.0.vec <- 1:N.repl\n",
    "beta.1.vec <- 1:N.repl\n",
    "beta.looper <- 1:N.repl\n",
    "\n",
    "for (i in beta.looper) {\n",
    "    X <- seq(0,10,length=NObs)\n",
    "    eps <- rnorm(NObs,0,sigma)\n",
    "\n",
    "    Y <- beta0 + beta1*X +eps\n",
    "    df <- data.frame(X,Y)\n",
    "    lr <- lm(Y ~ X, df)\n",
    "    beta.0.vec[i] <- lr$coefficients[1]\n",
    "    beta.1.vec[i] <- lr$coefficients[2]\n",
    "}"
   ]
  },
  {
   "cell_type": "code",
   "execution_count": 99,
   "metadata": {},
   "outputs": [],
   "source": [
    "beta.0.df <- data.frame(\"tag\"=\"beta.0\",\"coeff.value\"=beta.0.vec)%>%\n",
    "    group_by(tag, coeff.value)\n",
    "beta.1.df <- data.frame(\"tag\"=\"beta.1\",\"coeff.value\"=beta.1.vec) %>%\n",
    "    group_by(tag, coeff.value)"
   ]
  },
  {
   "cell_type": "code",
   "execution_count": 25,
   "metadata": {},
   "outputs": [
    {
     "data": {
      "text/html": [
       "<table>\n",
       "<caption>A grouped_df: 6 × 2</caption>\n",
       "<thead>\n",
       "\t<tr><th scope=col>tag</th><th scope=col>coeff.value</th></tr>\n",
       "\t<tr><th scope=col>&lt;fct&gt;</th><th scope=col>&lt;dbl&gt;</th></tr>\n",
       "</thead>\n",
       "<tbody>\n",
       "\t<tr><td>beta.0</td><td> 9.743193</td></tr>\n",
       "\t<tr><td>beta.0</td><td>10.023143</td></tr>\n",
       "\t<tr><td>beta.0</td><td>11.711929</td></tr>\n",
       "\t<tr><td>beta.0</td><td>10.357894</td></tr>\n",
       "\t<tr><td>beta.0</td><td>10.765914</td></tr>\n",
       "\t<tr><td>beta.0</td><td> 9.415350</td></tr>\n",
       "</tbody>\n",
       "</table>\n"
      ],
      "text/latex": [
       "A grouped\\_df: 6 × 2\n",
       "\\begin{tabular}{ll}\n",
       " tag & coeff.value\\\\\n",
       " <fct> & <dbl>\\\\\n",
       "\\hline\n",
       "\t beta.0 &  9.743193\\\\\n",
       "\t beta.0 & 10.023143\\\\\n",
       "\t beta.0 & 11.711929\\\\\n",
       "\t beta.0 & 10.357894\\\\\n",
       "\t beta.0 & 10.765914\\\\\n",
       "\t beta.0 &  9.415350\\\\\n",
       "\\end{tabular}\n"
      ],
      "text/markdown": [
       "\n",
       "A grouped_df: 6 × 2\n",
       "\n",
       "| tag &lt;fct&gt; | coeff.value &lt;dbl&gt; |\n",
       "|---|---|\n",
       "| beta.0 |  9.743193 |\n",
       "| beta.0 | 10.023143 |\n",
       "| beta.0 | 11.711929 |\n",
       "| beta.0 | 10.357894 |\n",
       "| beta.0 | 10.765914 |\n",
       "| beta.0 |  9.415350 |\n",
       "\n"
      ],
      "text/plain": [
       "  tag    coeff.value\n",
       "1 beta.0  9.743193  \n",
       "2 beta.0 10.023143  \n",
       "3 beta.0 11.711929  \n",
       "4 beta.0 10.357894  \n",
       "5 beta.0 10.765914  \n",
       "6 beta.0  9.415350  "
      ]
     },
     "metadata": {},
     "output_type": "display_data"
    }
   ],
   "source": [
    "head(beta.0.df)"
   ]
  },
  {
   "cell_type": "code",
   "execution_count": 43,
   "metadata": {},
   "outputs": [
    {
     "name": "stderr",
     "output_type": "stream",
     "text": [
      "Joining, by = c(\"tag\", \"coeff.value\")\n",
      "\n",
      "Warning message:\n",
      "\"Column `tag` joining factors with different levels, coercing to character vector\"\n",
      "`stat_bin()` using `bins = 30`. Pick better value with `binwidth`.\n",
      "\n"
     ]
    },
    {
     "data": {
      "image/png": "[encoded data removed]",
      "text/plain": [
       "plot without title"
      ]
     },
     "metadata": {
      "image/png": {
       "height": 420,
       "width": 420
      }
     },
     "output_type": "display_data"
    }
   ],
   "source": [
    "beta.df <- full_join(beta.0.df,beta.1.df) %>%\n",
    "    group_by(tag,coeff.value)\n",
    "ggplot(beta.df,aes(x=coeff.value,colour=tag)) + geom_histogram(aes(y=..density..)) + geom_boxplot(aes(y=2)) "
   ]
  },
  {
   "cell_type": "markdown",
   "metadata": {},
   "source": [
    "In reality, assume we only have 1 instance (in this example, with NObs=20 data points). \n",
    "\n",
    "Perform the simulation once to generate one data set with 20 points."
   ]
  },
  {
   "cell_type": "code",
   "execution_count": 80,
   "metadata": {},
   "outputs": [],
   "source": [
    "X.single <- seq(0,10,length=NObs)\n",
    "eps <- rnorm(NObs,0,sigma)\n",
    "\n",
    "Y.single <- beta0 + beta1*X +eps\n",
    "df.single <- data.frame(X.single,Y.single)\n",
    "lr.single <- lm(Y ~ X, df.single)"
   ]
  },
  {
   "cell_type": "markdown",
   "metadata": {},
   "source": [
    "Write code to perform non-parametric bootstrap on this data set. For a linear model like this, the resampling should be random pairs of X,Y data (so, to be clear, the resampling does not mix an X-value with a Y-value it did not belong with). \n",
    "\n",
    "Using the distribution of estimates for beta_0 and beta_1 from this non-parametric bootstrap, plot histograms and output quantiles. Compare with the \"true\" distributions from above."
   ]
  },
  {
   "cell_type": "code",
   "execution_count": 81,
   "metadata": {},
   "outputs": [],
   "source": [
    "bootstrap.simple.xy <- function(df, N.repeat, N.obs) {\n",
    "    beta.0.vec <- 1:N.repeat\n",
    "    beta.1.vec <- 1:N.repeat\n",
    "    for (i in 1:N.repeat) {\n",
    "        resample.bootstrap <- df[sample(N.obs,replace=TRUE),]\n",
    "        lr.bootstrap <- lm(Y ~ X, resample.bootstrap)\n",
    "        beta.0.vec[i] <- lr.bootstrap$coefficients[1]\n",
    "        beta.1.vec[i] <- lr.bootstrap$coefficients[2]\n",
    "    }\n",
    "    data.frame('beta.0'=beta.0.vec,'beta.1'=beta.1.vec)\n",
    "}"
   ]
  },
  {
   "cell_type": "code",
   "execution_count": 112,
   "metadata": {},
   "outputs": [
    {
     "name": "stderr",
     "output_type": "stream",
     "text": [
      "Joining, by = c(\"tag\", \"coeff.value\")\n",
      "\n",
      "Warning message:\n",
      "\"Column `tag` joining factors with different levels, coercing to character vector\"\n"
     ]
    }
   ],
   "source": [
    "beta.0.s.vec <- 1:N.repl\n",
    "beta.1.s.vec <- 1:N.repl\n",
    "for (i in 1:N.repl) {\n",
    "    resample.bootstrap <- df[sample(NObs,replace=TRUE),]\n",
    "    lr.bootstrap <- lm(Y ~ X, resample.bootstrap)\n",
    "    beta.0.s.vec[i] <- lr.bootstrap$coefficients[1]\n",
    "    beta.1.s.vec[i] <- lr.bootstrap$coefficients[2]\n",
    "}\n",
    "df.single.beta.0 <- data.frame('tag'='beta.0','coeff.value'=beta.0.s.vec)\n",
    "df.single.beta.1 <- data.frame('tag'='beta.1','coeff.value'=beta.1.s.vec)\n",
    "df.single.bootstrap <- full_join(df.single.beta.0,df.single.beta.1) %>%\n",
    "    group_by(tag,coeff.value)\n",
    "\n",
    "#df.single.bootstrap <- bootstrap.simple.xy(df.single, N.repl, NObs)"
   ]
  },
  {
   "cell_type": "code",
   "execution_count": 129,
   "metadata": {},
   "outputs": [],
   "source": [
    "beta.0.df <- data.frame(\"tag\"=\"beta.0\",\"coeff.value\"=beta.0.vec, \"bootstrapQ\"=0) # ,\"bootstrapQ\"=0\n",
    "beta.1.df <- data.frame(\"tag\"=\"beta.1\",\"coeff.value\"=beta.1.vec, \"bootstrapQ\"=0) # ,\"bootstrapQ\"=0\n",
    "beta.0.df.single <- data.frame(\"tag\"=\"beta.0.bootstrap\",\"coeff.value\"=beta.0.s.vec, \"bootstrapQ\"=1) #, \"bootstrapQ\"=1\n",
    "beta.1.df.single <- data.frame(\"tag\"=\"beta.1.bootstrap\",\"coeff.value\"=beta.1.s.vec, \"bootstrapQ\"=1) #, \"bootstrapQ\"=1\n",
    "beta.df <- rbind(beta.0.df, beta.1.df, beta.0.df.single, beta.1.df.single)"
   ]
  },
  {
   "cell_type": "code",
   "execution_count": 119,
   "metadata": {},
   "outputs": [
    {
     "data": {
      "text/html": [
       "<table>\n",
       "<caption>A data.frame: 6 × 3</caption>\n",
       "<thead>\n",
       "\t<tr><th></th><th scope=col>tag</th><th scope=col>coeff.value</th><th scope=col>bootstrapQ</th></tr>\n",
       "\t<tr><th></th><th scope=col>&lt;fct&gt;</th><th scope=col>&lt;dbl&gt;</th><th scope=col>&lt;dbl&gt;</th></tr>\n",
       "</thead>\n",
       "<tbody>\n",
       "\t<tr><th scope=row>1</th><td>beta.0</td><td> 9.887232</td><td>0</td></tr>\n",
       "\t<tr><th scope=row>2</th><td>beta.0</td><td>10.874489</td><td>0</td></tr>\n",
       "\t<tr><th scope=row>3</th><td>beta.0</td><td> 9.611564</td><td>0</td></tr>\n",
       "\t<tr><th scope=row>4</th><td>beta.0</td><td>10.755159</td><td>0</td></tr>\n",
       "\t<tr><th scope=row>5</th><td>beta.0</td><td>10.175739</td><td>0</td></tr>\n",
       "\t<tr><th scope=row>6</th><td>beta.0</td><td>10.668917</td><td>0</td></tr>\n",
       "</tbody>\n",
       "</table>\n"
      ],
      "text/latex": [
       "A data.frame: 6 × 3\n",
       "\\begin{tabular}{r|lll}\n",
       "  & tag & coeff.value & bootstrapQ\\\\\n",
       "  & <fct> & <dbl> & <dbl>\\\\\n",
       "\\hline\n",
       "\t1 & beta.0 &  9.887232 & 0\\\\\n",
       "\t2 & beta.0 & 10.874489 & 0\\\\\n",
       "\t3 & beta.0 &  9.611564 & 0\\\\\n",
       "\t4 & beta.0 & 10.755159 & 0\\\\\n",
       "\t5 & beta.0 & 10.175739 & 0\\\\\n",
       "\t6 & beta.0 & 10.668917 & 0\\\\\n",
       "\\end{tabular}\n"
      ],
      "text/markdown": [
       "\n",
       "A data.frame: 6 × 3\n",
       "\n",
       "| <!--/--> | tag &lt;fct&gt; | coeff.value &lt;dbl&gt; | bootstrapQ &lt;dbl&gt; |\n",
       "|---|---|---|---|\n",
       "| 1 | beta.0 |  9.887232 | 0 |\n",
       "| 2 | beta.0 | 10.874489 | 0 |\n",
       "| 3 | beta.0 |  9.611564 | 0 |\n",
       "| 4 | beta.0 | 10.755159 | 0 |\n",
       "| 5 | beta.0 | 10.175739 | 0 |\n",
       "| 6 | beta.0 | 10.668917 | 0 |\n",
       "\n"
      ],
      "text/plain": [
       "  tag    coeff.value bootstrapQ\n",
       "1 beta.0  9.887232   0         \n",
       "2 beta.0 10.874489   0         \n",
       "3 beta.0  9.611564   0         \n",
       "4 beta.0 10.755159   0         \n",
       "5 beta.0 10.175739   0         \n",
       "6 beta.0 10.668917   0         "
      ]
     },
     "metadata": {},
     "output_type": "display_data"
    }
   ],
   "source": [
    "head(beta.df)"
   ]
  },
  {
   "cell_type": "code",
   "execution_count": 134,
   "metadata": {},
   "outputs": [],
   "source": [
    "p <- ggplot(beta.df, aes(x=coeff.value,colour=tag)) + \n",
    "    geom_histogram(aes(y=..density..)) + \n",
    "    geom_boxplot(aes(y=2.5))"
   ]
  },
  {
   "cell_type": "code",
   "execution_count": 140,
   "metadata": {},
   "outputs": [
    {
     "name": "stderr",
     "output_type": "stream",
     "text": [
      "`stat_bin()` using `bins = 30`. Pick better value with `binwidth`.\n",
      "\n"
     ]
    },
    {
     "data": {
      "image/png": "[encoded data removed]",
      "text/plain": [
       "plot without title"
      ]
     },
     "metadata": {
      "image/png": {
       "height": 420,
       "width": 420
      }
     },
     "output_type": "display_data"
    }
   ],
   "source": [
    "p + facet_grid(cols=vars(bootstrapQ),scales = \"free\")"
   ]
  },
  {
   "cell_type": "code",
   "execution_count": null,
   "metadata": {},
   "outputs": [],
   "source": []
  }
 ],
 "metadata": {
  "kernelspec": {
   "display_name": "R",
   "language": "R",
   "name": "ir"
  },
  "language_info": {
   "codemirror_mode": "r",
   "file_extension": ".r",
   "mimetype": "text/x-r-source",
   "name": "R",
   "pygments_lexer": "r",
   "version": "3.6.3"
  }
 },
 "nbformat": 4,
 "nbformat_minor": 2
}
